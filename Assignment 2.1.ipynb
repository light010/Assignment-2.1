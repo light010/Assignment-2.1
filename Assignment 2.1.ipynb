{
 "cells": [
  {
   "cell_type": "code",
   "execution_count": 2,
   "metadata": {
    "collapsed": true
   },
   "outputs": [],
   "source": [
    "def myreduce(fun, itr):\n",
    "    '''\n",
    "    input - a function and a iterative sequence.\n",
    "    output - it would apply function to each of the element of the sequence and then returns a single value.\n",
    "    process - it is a recursive method.\n",
    "    '''\n",
    "    if len(itr) == 2:\n",
    "        return fun(itr[0], itr[1])\n",
    "    else:\n",
    "        return(fun(itr[-1], myreduce(fun, itr[:-1])))\n",
    "        "
   ]
  },
  {
   "cell_type": "code",
   "execution_count": 3,
   "metadata": {},
   "outputs": [
    {
     "data": {
      "text/plain": [
       "47"
      ]
     },
     "execution_count": 3,
     "metadata": {},
     "output_type": "execute_result"
    }
   ],
   "source": [
    "#Find the maximum of a sequence\n",
    "max_find = lambda a,b: a if (a > b) else b\n",
    "lst =[43,11,42,47]\n",
    "\n",
    "#Find max\n",
    "myreduce(max_find, lst)"
   ]
  },
  {
   "cell_type": "code",
   "execution_count": null,
   "metadata": {
    "collapsed": true
   },
   "outputs": [],
   "source": []
  },
  {
   "cell_type": "code",
   "execution_count": null,
   "metadata": {},
   "outputs": [],
   "source": []
  },
  {
   "cell_type": "code",
   "execution_count": 32,
   "metadata": {
    "collapsed": true
   },
   "outputs": [],
   "source": [
    "lst = range(20)             #only print even number from this list"
   ]
  },
  {
   "cell_type": "code",
   "execution_count": 33,
   "metadata": {
    "collapsed": true
   },
   "outputs": [],
   "source": [
    "def myfilter(fun, itr):\n",
    "    '''\n",
    "    input - a function and a iterative sequence\n",
    "    process - iterating through each element of the 'itr' and applying function on it.\n",
    "             if it results True then yielding that element or else pass.\n",
    "    '''\n",
    "    for i in itr:\n",
    "        if fun(i):\n",
    "            yield i\n",
    "        else:\n",
    "            pass"
   ]
  },
  {
   "cell_type": "code",
   "execution_count": 35,
   "metadata": {},
   "outputs": [
    {
     "data": {
      "text/plain": [
       "[0, 2, 4, 6, 8, 10, 12, 14, 16, 18]"
      ]
     },
     "execution_count": 35,
     "metadata": {},
     "output_type": "execute_result"
    }
   ],
   "source": [
    "mylist = []\n",
    "for num in myfilter(lambda x: x%2==0, lst):\n",
    "    mylist.append(num)       #appending each element of the lst which yields by the above function\n",
    "mylist\n",
    "    "
   ]
  },
  {
   "cell_type": "code",
   "execution_count": null,
   "metadata": {
    "collapsed": true
   },
   "outputs": [],
   "source": []
  },
  {
   "cell_type": "code",
   "execution_count": null,
   "metadata": {
    "collapsed": true
   },
   "outputs": [],
   "source": []
  }
 ],
 "metadata": {
  "kernelspec": {
   "display_name": "Python 3",
   "language": "python",
   "name": "python3"
  },
  "language_info": {
   "codemirror_mode": {
    "name": "ipython",
    "version": 3
   },
   "file_extension": ".py",
   "mimetype": "text/x-python",
   "name": "python",
   "nbconvert_exporter": "python",
   "pygments_lexer": "ipython3",
   "version": "3.6.3"
  }
 },
 "nbformat": 4,
 "nbformat_minor": 2
}
